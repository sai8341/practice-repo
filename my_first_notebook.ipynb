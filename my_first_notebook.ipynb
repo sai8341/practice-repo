{
 "cells": [
  {
   "cell_type": "code",
   "execution_count": 2,
   "id": "97d7e551",
   "metadata": {},
   "outputs": [
    {
     "name": "stdout",
     "output_type": "stream",
     "text": [
      "Hello, bagunnara..?\n"
     ]
    }
   ],
   "source": [
    "print(\"Hello, bagunnara..?\")"
   ]
  },
  {
   "cell_type": "code",
   "execution_count": 1,
   "id": "8950bfae",
   "metadata": {},
   "outputs": [
    {
     "name": "stdout",
     "output_type": "stream",
     "text": [
      "1 2 3 4 5 6 7 8 9 10 "
     ]
    }
   ],
   "source": [
    "for i in range(1, 11):\n",
    "    print(i, end=\" \")"
   ]
  },
  {
   "cell_type": "markdown",
   "id": "9fd8eb5d",
   "metadata": {},
   "source": [
    "Create a student data"
   ]
  },
  {
   "cell_type": "code",
   "execution_count": 1,
   "id": "83354bf8",
   "metadata": {},
   "outputs": [
    {
     "name": "stdout",
     "output_type": "stream",
     "text": [
      "Subbarao 22 10.0 True\n"
     ]
    }
   ],
   "source": [
    "name = \"Subbarao\"\n",
    "age = 22\n",
    "GPA = 10.0\n",
    "plays_kabaddi = True\n",
    "\n",
    "print(name, age, GPA, plays_kabaddi)"
   ]
  },
  {
   "cell_type": "markdown",
   "id": "7a114a6c",
   "metadata": {},
   "source": [
    "Creating a Class & Object in Python!"
   ]
  },
  {
   "cell_type": "code",
   "execution_count": null,
   "id": "ac1c5d86",
   "metadata": {},
   "outputs": [],
   "source": []
  }
 ],
 "metadata": {
  "kernelspec": {
   "display_name": "base",
   "language": "python",
   "name": "python3"
  },
  "language_info": {
   "codemirror_mode": {
    "name": "ipython",
    "version": 3
   },
   "file_extension": ".py",
   "mimetype": "text/x-python",
   "name": "python",
   "nbconvert_exporter": "python",
   "pygments_lexer": "ipython3",
   "version": "3.11.7"
  }
 },
 "nbformat": 4,
 "nbformat_minor": 5
}
